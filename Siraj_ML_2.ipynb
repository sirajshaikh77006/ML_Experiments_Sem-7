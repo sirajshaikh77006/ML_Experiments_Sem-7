{
  "nbformat": 4,
  "nbformat_minor": 0,
  "metadata": {
    "colab": {
      "provenance": [],
      "collapsed_sections": [
        "lKYZvpEMWilz",
        "VsxQNON0bdDC",
        "B4xUhEaHe7IF"
      ]
    },
    "kernelspec": {
      "name": "python3",
      "display_name": "Python 3"
    },
    "language_info": {
      "name": "python"
    },
    "widgets": {
      "application/vnd.jupyter.widget-state+json": {
        "64e5dfbad3364e17983c4dbe821b8871": {
          "model_module": "@jupyter-widgets/controls",
          "model_name": "VBoxModel",
          "model_module_version": "1.5.0",
          "state": {
            "_dom_classes": [],
            "_model_module": "@jupyter-widgets/controls",
            "_model_module_version": "1.5.0",
            "_model_name": "VBoxModel",
            "_view_count": null,
            "_view_module": "@jupyter-widgets/controls",
            "_view_module_version": "1.5.0",
            "_view_name": "VBoxView",
            "box_style": "",
            "children": [
              "IPY_MODEL_a2a31f703aa649578c091710b40f8229",
              "IPY_MODEL_9bda136fe8e644b0b246ee6cdb3c905f",
              "IPY_MODEL_121154a3ae284ba5b4c146f7bbe7db69"
            ],
            "layout": "IPY_MODEL_ccd3953b26074d11b2b10c7778f98e8e"
          }
        },
        "a2a31f703aa649578c091710b40f8229": {
          "model_module": "@jupyter-widgets/controls",
          "model_name": "HTMLModel",
          "model_module_version": "1.5.0",
          "state": {
            "_dom_classes": [],
            "_model_module": "@jupyter-widgets/controls",
            "_model_module_version": "1.5.0",
            "_model_name": "HTMLModel",
            "_view_count": null,
            "_view_module": "@jupyter-widgets/controls",
            "_view_module_version": "1.5.0",
            "_view_name": "HTMLView",
            "description": "",
            "description_tooltip": null,
            "layout": "IPY_MODEL_4d689e7ce7dd4e4d8b01d4f46e0a0f2b",
            "placeholder": "​",
            "style": "IPY_MODEL_912b410a082a4d0a85937c362d29cc2f",
            "value": "<h2 style='text-align:center;border-bottom:1px solid grey;'>CGPA vs Package Prediction</h2>"
          }
        },
        "9bda136fe8e644b0b246ee6cdb3c905f": {
          "model_module": "@jupyter-widgets/controls",
          "model_name": "HBoxModel",
          "model_module_version": "1.5.0",
          "state": {
            "_dom_classes": [],
            "_model_module": "@jupyter-widgets/controls",
            "_model_module_version": "1.5.0",
            "_model_name": "HBoxModel",
            "_view_count": null,
            "_view_module": "@jupyter-widgets/controls",
            "_view_module_version": "1.5.0",
            "_view_name": "HBoxView",
            "box_style": "",
            "children": [
              "IPY_MODEL_e45c5a9f9fd24b638384fcf89214f1a0",
              "IPY_MODEL_6ba1c9645b84411ab656b6ac6f9d8867"
            ],
            "layout": "IPY_MODEL_d74c1a035ca74aedb5613f49235de9a3"
          }
        },
        "121154a3ae284ba5b4c146f7bbe7db69": {
          "model_module": "@jupyter-widgets/controls",
          "model_name": "HTMLModel",
          "model_module_version": "1.5.0",
          "state": {
            "_dom_classes": [],
            "_model_module": "@jupyter-widgets/controls",
            "_model_module_version": "1.5.0",
            "_model_name": "HTMLModel",
            "_view_count": null,
            "_view_module": "@jupyter-widgets/controls",
            "_view_module_version": "1.5.0",
            "_view_name": "HTMLView",
            "description": "",
            "description_tooltip": null,
            "layout": "IPY_MODEL_e60f9a394ff94a129548da56d3398283",
            "placeholder": "​",
            "style": "IPY_MODEL_7e8364d97e754ba18f918aa5c219f608",
            "value": "<p style='text-align:center;'>© 211P066 - Data Visualization and Prediction</p>"
          }
        },
        "ccd3953b26074d11b2b10c7778f98e8e": {
          "model_module": "@jupyter-widgets/base",
          "model_name": "LayoutModel",
          "model_module_version": "1.2.0",
          "state": {
            "_model_module": "@jupyter-widgets/base",
            "_model_module_version": "1.2.0",
            "_model_name": "LayoutModel",
            "_view_count": null,
            "_view_module": "@jupyter-widgets/base",
            "_view_module_version": "1.2.0",
            "_view_name": "LayoutView",
            "align_content": null,
            "align_items": "center",
            "align_self": null,
            "border": null,
            "bottom": null,
            "display": null,
            "flex": null,
            "flex_flow": null,
            "grid_area": null,
            "grid_auto_columns": null,
            "grid_auto_flow": null,
            "grid_auto_rows": null,
            "grid_column": null,
            "grid_gap": null,
            "grid_row": null,
            "grid_template_areas": null,
            "grid_template_columns": null,
            "grid_template_rows": null,
            "height": null,
            "justify_content": "center",
            "justify_items": null,
            "left": null,
            "margin": null,
            "max_height": null,
            "max_width": null,
            "min_height": null,
            "min_width": null,
            "object_fit": null,
            "object_position": null,
            "order": null,
            "overflow": null,
            "overflow_x": null,
            "overflow_y": null,
            "padding": null,
            "right": null,
            "top": null,
            "visibility": null,
            "width": null
          }
        },
        "4d689e7ce7dd4e4d8b01d4f46e0a0f2b": {
          "model_module": "@jupyter-widgets/base",
          "model_name": "LayoutModel",
          "model_module_version": "1.2.0",
          "state": {
            "_model_module": "@jupyter-widgets/base",
            "_model_module_version": "1.2.0",
            "_model_name": "LayoutModel",
            "_view_count": null,
            "_view_module": "@jupyter-widgets/base",
            "_view_module_version": "1.2.0",
            "_view_name": "LayoutView",
            "align_content": null,
            "align_items": null,
            "align_self": null,
            "border": null,
            "bottom": null,
            "display": null,
            "flex": null,
            "flex_flow": null,
            "grid_area": null,
            "grid_auto_columns": null,
            "grid_auto_flow": null,
            "grid_auto_rows": null,
            "grid_column": null,
            "grid_gap": null,
            "grid_row": null,
            "grid_template_areas": null,
            "grid_template_columns": null,
            "grid_template_rows": null,
            "height": null,
            "justify_content": null,
            "justify_items": null,
            "left": null,
            "margin": null,
            "max_height": null,
            "max_width": null,
            "min_height": null,
            "min_width": null,
            "object_fit": null,
            "object_position": null,
            "order": null,
            "overflow": null,
            "overflow_x": null,
            "overflow_y": null,
            "padding": null,
            "right": null,
            "top": null,
            "visibility": null,
            "width": null
          }
        },
        "912b410a082a4d0a85937c362d29cc2f": {
          "model_module": "@jupyter-widgets/controls",
          "model_name": "DescriptionStyleModel",
          "model_module_version": "1.5.0",
          "state": {
            "_model_module": "@jupyter-widgets/controls",
            "_model_module_version": "1.5.0",
            "_model_name": "DescriptionStyleModel",
            "_view_count": null,
            "_view_module": "@jupyter-widgets/base",
            "_view_module_version": "1.2.0",
            "_view_name": "StyleView",
            "description_width": ""
          }
        },
        "e45c5a9f9fd24b638384fcf89214f1a0": {
          "model_module": "@jupyter-widgets/controls",
          "model_name": "VBoxModel",
          "model_module_version": "1.5.0",
          "state": {
            "_dom_classes": [],
            "_model_module": "@jupyter-widgets/controls",
            "_model_module_version": "1.5.0",
            "_model_name": "VBoxModel",
            "_view_count": null,
            "_view_module": "@jupyter-widgets/controls",
            "_view_module_version": "1.5.0",
            "_view_name": "VBoxView",
            "box_style": "",
            "children": [
              "IPY_MODEL_c52ac94b5c814b59a1dc2f420b7a90e0",
              "IPY_MODEL_3fae267d463141ac9569296611aff781"
            ],
            "layout": "IPY_MODEL_7549b0439e57407699c542f88e04409f"
          }
        },
        "6ba1c9645b84411ab656b6ac6f9d8867": {
          "model_module": "@jupyter-widgets/output",
          "model_name": "OutputModel",
          "model_module_version": "1.0.0",
          "state": {
            "_dom_classes": [],
            "_model_module": "@jupyter-widgets/output",
            "_model_module_version": "1.0.0",
            "_model_name": "OutputModel",
            "_view_count": null,
            "_view_module": "@jupyter-widgets/output",
            "_view_module_version": "1.0.0",
            "_view_name": "OutputView",
            "layout": "IPY_MODEL_7ab9f6d8b6004cfda6f77f7cf932a182",
            "msg_id": "",
            "outputs": []
          }
        },
        "d74c1a035ca74aedb5613f49235de9a3": {
          "model_module": "@jupyter-widgets/base",
          "model_name": "LayoutModel",
          "model_module_version": "1.2.0",
          "state": {
            "_model_module": "@jupyter-widgets/base",
            "_model_module_version": "1.2.0",
            "_model_name": "LayoutModel",
            "_view_count": null,
            "_view_module": "@jupyter-widgets/base",
            "_view_module_version": "1.2.0",
            "_view_name": "LayoutView",
            "align_content": null,
            "align_items": "center",
            "align_self": null,
            "border": null,
            "bottom": null,
            "display": null,
            "flex": null,
            "flex_flow": null,
            "grid_area": null,
            "grid_auto_columns": null,
            "grid_auto_flow": null,
            "grid_auto_rows": null,
            "grid_column": null,
            "grid_gap": null,
            "grid_row": null,
            "grid_template_areas": null,
            "grid_template_columns": null,
            "grid_template_rows": null,
            "height": null,
            "justify_content": "center",
            "justify_items": null,
            "left": null,
            "margin": null,
            "max_height": null,
            "max_width": null,
            "min_height": null,
            "min_width": null,
            "object_fit": null,
            "object_position": null,
            "order": null,
            "overflow": null,
            "overflow_x": null,
            "overflow_y": null,
            "padding": null,
            "right": null,
            "top": null,
            "visibility": null,
            "width": null
          }
        },
        "e60f9a394ff94a129548da56d3398283": {
          "model_module": "@jupyter-widgets/base",
          "model_name": "LayoutModel",
          "model_module_version": "1.2.0",
          "state": {
            "_model_module": "@jupyter-widgets/base",
            "_model_module_version": "1.2.0",
            "_model_name": "LayoutModel",
            "_view_count": null,
            "_view_module": "@jupyter-widgets/base",
            "_view_module_version": "1.2.0",
            "_view_name": "LayoutView",
            "align_content": null,
            "align_items": null,
            "align_self": null,
            "border": null,
            "bottom": null,
            "display": null,
            "flex": null,
            "flex_flow": null,
            "grid_area": null,
            "grid_auto_columns": null,
            "grid_auto_flow": null,
            "grid_auto_rows": null,
            "grid_column": null,
            "grid_gap": null,
            "grid_row": null,
            "grid_template_areas": null,
            "grid_template_columns": null,
            "grid_template_rows": null,
            "height": null,
            "justify_content": null,
            "justify_items": null,
            "left": null,
            "margin": null,
            "max_height": null,
            "max_width": null,
            "min_height": null,
            "min_width": null,
            "object_fit": null,
            "object_position": null,
            "order": null,
            "overflow": null,
            "overflow_x": null,
            "overflow_y": null,
            "padding": null,
            "right": null,
            "top": null,
            "visibility": null,
            "width": null
          }
        },
        "7e8364d97e754ba18f918aa5c219f608": {
          "model_module": "@jupyter-widgets/controls",
          "model_name": "DescriptionStyleModel",
          "model_module_version": "1.5.0",
          "state": {
            "_model_module": "@jupyter-widgets/controls",
            "_model_module_version": "1.5.0",
            "_model_name": "DescriptionStyleModel",
            "_view_count": null,
            "_view_module": "@jupyter-widgets/base",
            "_view_module_version": "1.2.0",
            "_view_name": "StyleView",
            "description_width": ""
          }
        },
        "c52ac94b5c814b59a1dc2f420b7a90e0": {
          "model_module": "@jupyter-widgets/controls",
          "model_name": "FloatSliderModel",
          "model_module_version": "1.5.0",
          "state": {
            "_dom_classes": [],
            "_model_module": "@jupyter-widgets/controls",
            "_model_module_version": "1.5.0",
            "_model_name": "FloatSliderModel",
            "_view_count": null,
            "_view_module": "@jupyter-widgets/controls",
            "_view_module_version": "1.5.0",
            "_view_name": "FloatSliderView",
            "continuous_update": false,
            "description": "CGPA:",
            "description_tooltip": null,
            "disabled": false,
            "layout": "IPY_MODEL_af9343963af3494e801556595f4083d3",
            "max": 10,
            "min": 0,
            "orientation": "horizontal",
            "readout": true,
            "readout_format": ".2f",
            "step": 0.01,
            "style": "IPY_MODEL_6c7402242f374ed6a104c6ab255c239f",
            "value": 0
          }
        },
        "3fae267d463141ac9569296611aff781": {
          "model_module": "@jupyter-widgets/controls",
          "model_name": "LabelModel",
          "model_module_version": "1.5.0",
          "state": {
            "_dom_classes": [],
            "_model_module": "@jupyter-widgets/controls",
            "_model_module_version": "1.5.0",
            "_model_name": "LabelModel",
            "_view_count": null,
            "_view_module": "@jupyter-widgets/controls",
            "_view_module_version": "1.5.0",
            "_view_name": "LabelView",
            "description": "",
            "description_tooltip": null,
            "layout": "IPY_MODEL_1077669976be490183937ccecf914f60",
            "placeholder": "​",
            "style": "IPY_MODEL_5ba6686319064c558e79abc849cd9d45",
            "value": "Predicted Package: "
          }
        },
        "7549b0439e57407699c542f88e04409f": {
          "model_module": "@jupyter-widgets/base",
          "model_name": "LayoutModel",
          "model_module_version": "1.2.0",
          "state": {
            "_model_module": "@jupyter-widgets/base",
            "_model_module_version": "1.2.0",
            "_model_name": "LayoutModel",
            "_view_count": null,
            "_view_module": "@jupyter-widgets/base",
            "_view_module_version": "1.2.0",
            "_view_name": "LayoutView",
            "align_content": null,
            "align_items": null,
            "align_self": null,
            "border": null,
            "bottom": null,
            "display": null,
            "flex": null,
            "flex_flow": null,
            "grid_area": null,
            "grid_auto_columns": null,
            "grid_auto_flow": null,
            "grid_auto_rows": null,
            "grid_column": null,
            "grid_gap": null,
            "grid_row": null,
            "grid_template_areas": null,
            "grid_template_columns": null,
            "grid_template_rows": null,
            "height": null,
            "justify_content": null,
            "justify_items": null,
            "left": null,
            "margin": null,
            "max_height": null,
            "max_width": null,
            "min_height": null,
            "min_width": null,
            "object_fit": null,
            "object_position": null,
            "order": null,
            "overflow": null,
            "overflow_x": null,
            "overflow_y": null,
            "padding": null,
            "right": null,
            "top": null,
            "visibility": null,
            "width": null
          }
        },
        "af9343963af3494e801556595f4083d3": {
          "model_module": "@jupyter-widgets/base",
          "model_name": "LayoutModel",
          "model_module_version": "1.2.0",
          "state": {
            "_model_module": "@jupyter-widgets/base",
            "_model_module_version": "1.2.0",
            "_model_name": "LayoutModel",
            "_view_count": null,
            "_view_module": "@jupyter-widgets/base",
            "_view_module_version": "1.2.0",
            "_view_name": "LayoutView",
            "align_content": null,
            "align_items": null,
            "align_self": null,
            "border": null,
            "bottom": null,
            "display": null,
            "flex": null,
            "flex_flow": null,
            "grid_area": null,
            "grid_auto_columns": null,
            "grid_auto_flow": null,
            "grid_auto_rows": null,
            "grid_column": null,
            "grid_gap": null,
            "grid_row": null,
            "grid_template_areas": null,
            "grid_template_columns": null,
            "grid_template_rows": null,
            "height": null,
            "justify_content": null,
            "justify_items": null,
            "left": null,
            "margin": null,
            "max_height": null,
            "max_width": null,
            "min_height": null,
            "min_width": null,
            "object_fit": null,
            "object_position": null,
            "order": null,
            "overflow": null,
            "overflow_x": null,
            "overflow_y": null,
            "padding": null,
            "right": null,
            "top": null,
            "visibility": null,
            "width": null
          }
        },
        "6c7402242f374ed6a104c6ab255c239f": {
          "model_module": "@jupyter-widgets/controls",
          "model_name": "SliderStyleModel",
          "model_module_version": "1.5.0",
          "state": {
            "_model_module": "@jupyter-widgets/controls",
            "_model_module_version": "1.5.0",
            "_model_name": "SliderStyleModel",
            "_view_count": null,
            "_view_module": "@jupyter-widgets/base",
            "_view_module_version": "1.2.0",
            "_view_name": "StyleView",
            "description_width": "initial",
            "handle_color": null
          }
        },
        "1077669976be490183937ccecf914f60": {
          "model_module": "@jupyter-widgets/base",
          "model_name": "LayoutModel",
          "model_module_version": "1.2.0",
          "state": {
            "_model_module": "@jupyter-widgets/base",
            "_model_module_version": "1.2.0",
            "_model_name": "LayoutModel",
            "_view_count": null,
            "_view_module": "@jupyter-widgets/base",
            "_view_module_version": "1.2.0",
            "_view_name": "LayoutView",
            "align_content": null,
            "align_items": null,
            "align_self": null,
            "border": null,
            "bottom": null,
            "display": null,
            "flex": null,
            "flex_flow": null,
            "grid_area": null,
            "grid_auto_columns": null,
            "grid_auto_flow": null,
            "grid_auto_rows": null,
            "grid_column": null,
            "grid_gap": null,
            "grid_row": null,
            "grid_template_areas": null,
            "grid_template_columns": null,
            "grid_template_rows": null,
            "height": null,
            "justify_content": null,
            "justify_items": null,
            "left": null,
            "margin": null,
            "max_height": null,
            "max_width": null,
            "min_height": null,
            "min_width": null,
            "object_fit": null,
            "object_position": null,
            "order": null,
            "overflow": null,
            "overflow_x": null,
            "overflow_y": null,
            "padding": null,
            "right": null,
            "top": null,
            "visibility": null,
            "width": null
          }
        },
        "5ba6686319064c558e79abc849cd9d45": {
          "model_module": "@jupyter-widgets/controls",
          "model_name": "DescriptionStyleModel",
          "model_module_version": "1.5.0",
          "state": {
            "_model_module": "@jupyter-widgets/controls",
            "_model_module_version": "1.5.0",
            "_model_name": "DescriptionStyleModel",
            "_view_count": null,
            "_view_module": "@jupyter-widgets/base",
            "_view_module_version": "1.2.0",
            "_view_name": "StyleView",
            "description_width": ""
          }
        },
        "7ab9f6d8b6004cfda6f77f7cf932a182": {
          "model_module": "@jupyter-widgets/base",
          "model_name": "LayoutModel",
          "model_module_version": "1.2.0",
          "state": {
            "_model_module": "@jupyter-widgets/base",
            "_model_module_version": "1.2.0",
            "_model_name": "LayoutModel",
            "_view_count": null,
            "_view_module": "@jupyter-widgets/base",
            "_view_module_version": "1.2.0",
            "_view_name": "LayoutView",
            "align_content": null,
            "align_items": null,
            "align_self": null,
            "border": null,
            "bottom": null,
            "display": null,
            "flex": null,
            "flex_flow": null,
            "grid_area": null,
            "grid_auto_columns": null,
            "grid_auto_flow": null,
            "grid_auto_rows": null,
            "grid_column": null,
            "grid_gap": null,
            "grid_row": null,
            "grid_template_areas": null,
            "grid_template_columns": null,
            "grid_template_rows": null,
            "height": null,
            "justify_content": null,
            "justify_items": null,
            "left": null,
            "margin": null,
            "max_height": null,
            "max_width": null,
            "min_height": null,
            "min_width": null,
            "object_fit": null,
            "object_position": null,
            "order": null,
            "overflow": null,
            "overflow_x": null,
            "overflow_y": null,
            "padding": null,
            "right": null,
            "top": null,
            "visibility": null,
            "width": null
          }
        },
        "b3c787f015164d429bc2032260e984d6": {
          "model_module": "@jupyter-widgets/controls",
          "model_name": "VBoxModel",
          "model_module_version": "1.5.0",
          "state": {
            "_dom_classes": [],
            "_model_module": "@jupyter-widgets/controls",
            "_model_module_version": "1.5.0",
            "_model_name": "VBoxModel",
            "_view_count": null,
            "_view_module": "@jupyter-widgets/controls",
            "_view_module_version": "1.5.0",
            "_view_name": "VBoxView",
            "box_style": "",
            "children": [
              "IPY_MODEL_5f450d151a644183bce506391ebd8c42",
              "IPY_MODEL_a4c6d0a492f34dff8a1461b5b60f16e3",
              "IPY_MODEL_5ff2deb33702471e9745d1dc3764354f"
            ],
            "layout": "IPY_MODEL_88798e2c764a4c33bb20a1242e1341d6"
          }
        },
        "5f450d151a644183bce506391ebd8c42": {
          "model_module": "@jupyter-widgets/controls",
          "model_name": "HTMLModel",
          "model_module_version": "1.5.0",
          "state": {
            "_dom_classes": [],
            "_model_module": "@jupyter-widgets/controls",
            "_model_module_version": "1.5.0",
            "_model_name": "HTMLModel",
            "_view_count": null,
            "_view_module": "@jupyter-widgets/controls",
            "_view_module_version": "1.5.0",
            "_view_name": "HTMLView",
            "description": "",
            "description_tooltip": null,
            "layout": "IPY_MODEL_b5a61ace8fd3413dae0e5296853c4038",
            "placeholder": "​",
            "style": "IPY_MODEL_8ca3831dd05141b88939b2bb8fbefc5b",
            "value": "<h2 style='text-align:center;border-bottom:1px solid grey;'>CGPA vs Package Prediction</h2>"
          }
        },
        "a4c6d0a492f34dff8a1461b5b60f16e3": {
          "model_module": "@jupyter-widgets/controls",
          "model_name": "HBoxModel",
          "model_module_version": "1.5.0",
          "state": {
            "_dom_classes": [],
            "_model_module": "@jupyter-widgets/controls",
            "_model_module_version": "1.5.0",
            "_model_name": "HBoxModel",
            "_view_count": null,
            "_view_module": "@jupyter-widgets/controls",
            "_view_module_version": "1.5.0",
            "_view_name": "HBoxView",
            "box_style": "",
            "children": [
              "IPY_MODEL_85ad4d0f78524969a9527c3cff92f59b",
              "IPY_MODEL_360f5abdd9b7406fb707747f90a2b650"
            ],
            "layout": "IPY_MODEL_202cfd819931403882d98f45f1129941"
          }
        },
        "5ff2deb33702471e9745d1dc3764354f": {
          "model_module": "@jupyter-widgets/controls",
          "model_name": "HTMLModel",
          "model_module_version": "1.5.0",
          "state": {
            "_dom_classes": [],
            "_model_module": "@jupyter-widgets/controls",
            "_model_module_version": "1.5.0",
            "_model_name": "HTMLModel",
            "_view_count": null,
            "_view_module": "@jupyter-widgets/controls",
            "_view_module_version": "1.5.0",
            "_view_name": "HTMLView",
            "description": "",
            "description_tooltip": null,
            "layout": "IPY_MODEL_5bc26c2cce464f548327d0cbb940912a",
            "placeholder": "​",
            "style": "IPY_MODEL_df46dd37dc3d42b2a3702530c7242202",
            "value": "<p style='text-align:center;'>© 211P066 - Data Visualization and Prediction</p>"
          }
        },
        "88798e2c764a4c33bb20a1242e1341d6": {
          "model_module": "@jupyter-widgets/base",
          "model_name": "LayoutModel",
          "model_module_version": "1.2.0",
          "state": {
            "_model_module": "@jupyter-widgets/base",
            "_model_module_version": "1.2.0",
            "_model_name": "LayoutModel",
            "_view_count": null,
            "_view_module": "@jupyter-widgets/base",
            "_view_module_version": "1.2.0",
            "_view_name": "LayoutView",
            "align_content": null,
            "align_items": "center",
            "align_self": null,
            "border": null,
            "bottom": null,
            "display": null,
            "flex": null,
            "flex_flow": null,
            "grid_area": null,
            "grid_auto_columns": null,
            "grid_auto_flow": null,
            "grid_auto_rows": null,
            "grid_column": null,
            "grid_gap": null,
            "grid_row": null,
            "grid_template_areas": null,
            "grid_template_columns": null,
            "grid_template_rows": null,
            "height": null,
            "justify_content": "center",
            "justify_items": null,
            "left": null,
            "margin": null,
            "max_height": null,
            "max_width": null,
            "min_height": null,
            "min_width": null,
            "object_fit": null,
            "object_position": null,
            "order": null,
            "overflow": null,
            "overflow_x": null,
            "overflow_y": null,
            "padding": null,
            "right": null,
            "top": null,
            "visibility": null,
            "width": null
          }
        },
        "b5a61ace8fd3413dae0e5296853c4038": {
          "model_module": "@jupyter-widgets/base",
          "model_name": "LayoutModel",
          "model_module_version": "1.2.0",
          "state": {
            "_model_module": "@jupyter-widgets/base",
            "_model_module_version": "1.2.0",
            "_model_name": "LayoutModel",
            "_view_count": null,
            "_view_module": "@jupyter-widgets/base",
            "_view_module_version": "1.2.0",
            "_view_name": "LayoutView",
            "align_content": null,
            "align_items": null,
            "align_self": null,
            "border": null,
            "bottom": null,
            "display": null,
            "flex": null,
            "flex_flow": null,
            "grid_area": null,
            "grid_auto_columns": null,
            "grid_auto_flow": null,
            "grid_auto_rows": null,
            "grid_column": null,
            "grid_gap": null,
            "grid_row": null,
            "grid_template_areas": null,
            "grid_template_columns": null,
            "grid_template_rows": null,
            "height": null,
            "justify_content": null,
            "justify_items": null,
            "left": null,
            "margin": null,
            "max_height": null,
            "max_width": null,
            "min_height": null,
            "min_width": null,
            "object_fit": null,
            "object_position": null,
            "order": null,
            "overflow": null,
            "overflow_x": null,
            "overflow_y": null,
            "padding": null,
            "right": null,
            "top": null,
            "visibility": null,
            "width": null
          }
        },
        "8ca3831dd05141b88939b2bb8fbefc5b": {
          "model_module": "@jupyter-widgets/controls",
          "model_name": "DescriptionStyleModel",
          "model_module_version": "1.5.0",
          "state": {
            "_model_module": "@jupyter-widgets/controls",
            "_model_module_version": "1.5.0",
            "_model_name": "DescriptionStyleModel",
            "_view_count": null,
            "_view_module": "@jupyter-widgets/base",
            "_view_module_version": "1.2.0",
            "_view_name": "StyleView",
            "description_width": ""
          }
        },
        "85ad4d0f78524969a9527c3cff92f59b": {
          "model_module": "@jupyter-widgets/controls",
          "model_name": "VBoxModel",
          "model_module_version": "1.5.0",
          "state": {
            "_dom_classes": [],
            "_model_module": "@jupyter-widgets/controls",
            "_model_module_version": "1.5.0",
            "_model_name": "VBoxModel",
            "_view_count": null,
            "_view_module": "@jupyter-widgets/controls",
            "_view_module_version": "1.5.0",
            "_view_name": "VBoxView",
            "box_style": "",
            "children": [
              "IPY_MODEL_84adbd493de74ef0a602c5825c2de623",
              "IPY_MODEL_2aecd6ce3ccd44b0be1dd9ae0eaf8b6e"
            ],
            "layout": "IPY_MODEL_f0967c7383a841daa827124535680a86"
          }
        },
        "360f5abdd9b7406fb707747f90a2b650": {
          "model_module": "@jupyter-widgets/output",
          "model_name": "OutputModel",
          "model_module_version": "1.0.0",
          "state": {
            "_dom_classes": [],
            "_model_module": "@jupyter-widgets/output",
            "_model_module_version": "1.0.0",
            "_model_name": "OutputModel",
            "_view_count": null,
            "_view_module": "@jupyter-widgets/output",
            "_view_module_version": "1.0.0",
            "_view_name": "OutputView",
            "layout": "IPY_MODEL_a8df3499b203415885033e19204d5414",
            "msg_id": "",
            "outputs": [
              {
                "output_type": "display_data",
                "data": {
                  "text/plain": "<Figure size 800x600 with 1 Axes>",
                  "image/png": "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\n"
                },
                "metadata": {}
              }
            ]
          }
        },
        "202cfd819931403882d98f45f1129941": {
          "model_module": "@jupyter-widgets/base",
          "model_name": "LayoutModel",
          "model_module_version": "1.2.0",
          "state": {
            "_model_module": "@jupyter-widgets/base",
            "_model_module_version": "1.2.0",
            "_model_name": "LayoutModel",
            "_view_count": null,
            "_view_module": "@jupyter-widgets/base",
            "_view_module_version": "1.2.0",
            "_view_name": "LayoutView",
            "align_content": null,
            "align_items": "center",
            "align_self": null,
            "border": null,
            "bottom": null,
            "display": null,
            "flex": null,
            "flex_flow": null,
            "grid_area": null,
            "grid_auto_columns": null,
            "grid_auto_flow": null,
            "grid_auto_rows": null,
            "grid_column": null,
            "grid_gap": null,
            "grid_row": null,
            "grid_template_areas": null,
            "grid_template_columns": null,
            "grid_template_rows": null,
            "height": null,
            "justify_content": "center",
            "justify_items": null,
            "left": null,
            "margin": null,
            "max_height": null,
            "max_width": null,
            "min_height": null,
            "min_width": null,
            "object_fit": null,
            "object_position": null,
            "order": null,
            "overflow": null,
            "overflow_x": null,
            "overflow_y": null,
            "padding": null,
            "right": null,
            "top": null,
            "visibility": null,
            "width": null
          }
        },
        "5bc26c2cce464f548327d0cbb940912a": {
          "model_module": "@jupyter-widgets/base",
          "model_name": "LayoutModel",
          "model_module_version": "1.2.0",
          "state": {
            "_model_module": "@jupyter-widgets/base",
            "_model_module_version": "1.2.0",
            "_model_name": "LayoutModel",
            "_view_count": null,
            "_view_module": "@jupyter-widgets/base",
            "_view_module_version": "1.2.0",
            "_view_name": "LayoutView",
            "align_content": null,
            "align_items": null,
            "align_self": null,
            "border": null,
            "bottom": null,
            "display": null,
            "flex": null,
            "flex_flow": null,
            "grid_area": null,
            "grid_auto_columns": null,
            "grid_auto_flow": null,
            "grid_auto_rows": null,
            "grid_column": null,
            "grid_gap": null,
            "grid_row": null,
            "grid_template_areas": null,
            "grid_template_columns": null,
            "grid_template_rows": null,
            "height": null,
            "justify_content": null,
            "justify_items": null,
            "left": null,
            "margin": null,
            "max_height": null,
            "max_width": null,
            "min_height": null,
            "min_width": null,
            "object_fit": null,
            "object_position": null,
            "order": null,
            "overflow": null,
            "overflow_x": null,
            "overflow_y": null,
            "padding": null,
            "right": null,
            "top": null,
            "visibility": null,
            "width": null
          }
        },
        "df46dd37dc3d42b2a3702530c7242202": {
          "model_module": "@jupyter-widgets/controls",
          "model_name": "DescriptionStyleModel",
          "model_module_version": "1.5.0",
          "state": {
            "_model_module": "@jupyter-widgets/controls",
            "_model_module_version": "1.5.0",
            "_model_name": "DescriptionStyleModel",
            "_view_count": null,
            "_view_module": "@jupyter-widgets/base",
            "_view_module_version": "1.2.0",
            "_view_name": "StyleView",
            "description_width": ""
          }
        },
        "84adbd493de74ef0a602c5825c2de623": {
          "model_module": "@jupyter-widgets/controls",
          "model_name": "FloatSliderModel",
          "model_module_version": "1.5.0",
          "state": {
            "_dom_classes": [],
            "_model_module": "@jupyter-widgets/controls",
            "_model_module_version": "1.5.0",
            "_model_name": "FloatSliderModel",
            "_view_count": null,
            "_view_module": "@jupyter-widgets/controls",
            "_view_module_version": "1.5.0",
            "_view_name": "FloatSliderView",
            "continuous_update": false,
            "description": "CGPA:",
            "description_tooltip": null,
            "disabled": false,
            "layout": "IPY_MODEL_1e7ec77e8bb042a59f75ddfaa14d509b",
            "max": 10,
            "min": 0,
            "orientation": "horizontal",
            "readout": true,
            "readout_format": ".2f",
            "step": 0.01,
            "style": "IPY_MODEL_df98b1b5b09c4aa9a9ed61a7ed668208",
            "value": 5.07
          }
        },
        "2aecd6ce3ccd44b0be1dd9ae0eaf8b6e": {
          "model_module": "@jupyter-widgets/controls",
          "model_name": "LabelModel",
          "model_module_version": "1.5.0",
          "state": {
            "_dom_classes": [],
            "_model_module": "@jupyter-widgets/controls",
            "_model_module_version": "1.5.0",
            "_model_name": "LabelModel",
            "_view_count": null,
            "_view_module": "@jupyter-widgets/controls",
            "_view_module_version": "1.5.0",
            "_view_name": "LabelView",
            "description": "",
            "description_tooltip": null,
            "layout": "IPY_MODEL_f1c451b449b0484f93392ba70322a9cf",
            "placeholder": "​",
            "style": "IPY_MODEL_a822254cb38d4ccab4c52094091141c5",
            "value": "Predicted Package: 1.93"
          }
        },
        "f0967c7383a841daa827124535680a86": {
          "model_module": "@jupyter-widgets/base",
          "model_name": "LayoutModel",
          "model_module_version": "1.2.0",
          "state": {
            "_model_module": "@jupyter-widgets/base",
            "_model_module_version": "1.2.0",
            "_model_name": "LayoutModel",
            "_view_count": null,
            "_view_module": "@jupyter-widgets/base",
            "_view_module_version": "1.2.0",
            "_view_name": "LayoutView",
            "align_content": null,
            "align_items": null,
            "align_self": null,
            "border": null,
            "bottom": null,
            "display": null,
            "flex": null,
            "flex_flow": null,
            "grid_area": null,
            "grid_auto_columns": null,
            "grid_auto_flow": null,
            "grid_auto_rows": null,
            "grid_column": null,
            "grid_gap": null,
            "grid_row": null,
            "grid_template_areas": null,
            "grid_template_columns": null,
            "grid_template_rows": null,
            "height": null,
            "justify_content": null,
            "justify_items": null,
            "left": null,
            "margin": null,
            "max_height": null,
            "max_width": null,
            "min_height": null,
            "min_width": null,
            "object_fit": null,
            "object_position": null,
            "order": null,
            "overflow": null,
            "overflow_x": null,
            "overflow_y": null,
            "padding": null,
            "right": null,
            "top": null,
            "visibility": null,
            "width": null
          }
        },
        "1e7ec77e8bb042a59f75ddfaa14d509b": {
          "model_module": "@jupyter-widgets/base",
          "model_name": "LayoutModel",
          "model_module_version": "1.2.0",
          "state": {
            "_model_module": "@jupyter-widgets/base",
            "_model_module_version": "1.2.0",
            "_model_name": "LayoutModel",
            "_view_count": null,
            "_view_module": "@jupyter-widgets/base",
            "_view_module_version": "1.2.0",
            "_view_name": "LayoutView",
            "align_content": null,
            "align_items": null,
            "align_self": null,
            "border": null,
            "bottom": null,
            "display": null,
            "flex": null,
            "flex_flow": null,
            "grid_area": null,
            "grid_auto_columns": null,
            "grid_auto_flow": null,
            "grid_auto_rows": null,
            "grid_column": null,
            "grid_gap": null,
            "grid_row": null,
            "grid_template_areas": null,
            "grid_template_columns": null,
            "grid_template_rows": null,
            "height": null,
            "justify_content": null,
            "justify_items": null,
            "left": null,
            "margin": null,
            "max_height": null,
            "max_width": null,
            "min_height": null,
            "min_width": null,
            "object_fit": null,
            "object_position": null,
            "order": null,
            "overflow": null,
            "overflow_x": null,
            "overflow_y": null,
            "padding": null,
            "right": null,
            "top": null,
            "visibility": null,
            "width": null
          }
        },
        "df98b1b5b09c4aa9a9ed61a7ed668208": {
          "model_module": "@jupyter-widgets/controls",
          "model_name": "SliderStyleModel",
          "model_module_version": "1.5.0",
          "state": {
            "_model_module": "@jupyter-widgets/controls",
            "_model_module_version": "1.5.0",
            "_model_name": "SliderStyleModel",
            "_view_count": null,
            "_view_module": "@jupyter-widgets/base",
            "_view_module_version": "1.2.0",
            "_view_name": "StyleView",
            "description_width": "initial",
            "handle_color": null
          }
        },
        "f1c451b449b0484f93392ba70322a9cf": {
          "model_module": "@jupyter-widgets/base",
          "model_name": "LayoutModel",
          "model_module_version": "1.2.0",
          "state": {
            "_model_module": "@jupyter-widgets/base",
            "_model_module_version": "1.2.0",
            "_model_name": "LayoutModel",
            "_view_count": null,
            "_view_module": "@jupyter-widgets/base",
            "_view_module_version": "1.2.0",
            "_view_name": "LayoutView",
            "align_content": null,
            "align_items": null,
            "align_self": null,
            "border": null,
            "bottom": null,
            "display": null,
            "flex": null,
            "flex_flow": null,
            "grid_area": null,
            "grid_auto_columns": null,
            "grid_auto_flow": null,
            "grid_auto_rows": null,
            "grid_column": null,
            "grid_gap": null,
            "grid_row": null,
            "grid_template_areas": null,
            "grid_template_columns": null,
            "grid_template_rows": null,
            "height": null,
            "justify_content": null,
            "justify_items": null,
            "left": null,
            "margin": null,
            "max_height": null,
            "max_width": null,
            "min_height": null,
            "min_width": null,
            "object_fit": null,
            "object_position": null,
            "order": null,
            "overflow": null,
            "overflow_x": null,
            "overflow_y": null,
            "padding": null,
            "right": null,
            "top": null,
            "visibility": null,
            "width": null
          }
        },
        "a822254cb38d4ccab4c52094091141c5": {
          "model_module": "@jupyter-widgets/controls",
          "model_name": "DescriptionStyleModel",
          "model_module_version": "1.5.0",
          "state": {
            "_model_module": "@jupyter-widgets/controls",
            "_model_module_version": "1.5.0",
            "_model_name": "DescriptionStyleModel",
            "_view_count": null,
            "_view_module": "@jupyter-widgets/base",
            "_view_module_version": "1.2.0",
            "_view_name": "StyleView",
            "description_width": ""
          }
        },
        "a8df3499b203415885033e19204d5414": {
          "model_module": "@jupyter-widgets/base",
          "model_name": "LayoutModel",
          "model_module_version": "1.2.0",
          "state": {
            "_model_module": "@jupyter-widgets/base",
            "_model_module_version": "1.2.0",
            "_model_name": "LayoutModel",
            "_view_count": null,
            "_view_module": "@jupyter-widgets/base",
            "_view_module_version": "1.2.0",
            "_view_name": "LayoutView",
            "align_content": null,
            "align_items": null,
            "align_self": null,
            "border": null,
            "bottom": null,
            "display": null,
            "flex": null,
            "flex_flow": null,
            "grid_area": null,
            "grid_auto_columns": null,
            "grid_auto_flow": null,
            "grid_auto_rows": null,
            "grid_column": null,
            "grid_gap": null,
            "grid_row": null,
            "grid_template_areas": null,
            "grid_template_columns": null,
            "grid_template_rows": null,
            "height": null,
            "justify_content": null,
            "justify_items": null,
            "left": null,
            "margin": null,
            "max_height": null,
            "max_width": null,
            "min_height": null,
            "min_width": null,
            "object_fit": null,
            "object_position": null,
            "order": null,
            "overflow": null,
            "overflow_x": null,
            "overflow_y": null,
            "padding": null,
            "right": null,
            "top": null,
            "visibility": null,
            "width": null
          }
        }
      }
    }
  },
  "cells": [
    {
      "cell_type": "markdown",
      "source": [
        "# Implement a Simple Linear model to predict a Package based on CGPA of a student."
      ],
      "metadata": {
        "id": "lKYZvpEMWilz"
      }
    },
    {
      "cell_type": "code",
      "source": [
        "import numpy as np\n",
        "import matplotlib.pyplot as plt\n",
        "import pandas as pd"
      ],
      "metadata": {
        "id": "BTN9Zl0Qv2ji"
      },
      "execution_count": null,
      "outputs": []
    },
    {
      "cell_type": "code",
      "source": [
        "df=pd.read_csv('placement.csv')"
      ],
      "metadata": {
        "id": "X3IRbMnMv8xC"
      },
      "execution_count": null,
      "outputs": []
    },
    {
      "cell_type": "code",
      "source": [
        "x,y=df.iloc[:,0:1].values,df.iloc[:,-1].values"
      ],
      "metadata": {
        "id": "PmkcA3G8w7HN"
      },
      "execution_count": null,
      "outputs": []
    },
    {
      "cell_type": "code",
      "source": [
        "from sklearn.model_selection import train_test_split\n",
        "x_train,x_test,y_train,y_test=train_test_split(x,y,test_size=0.2,random_state=2)"
      ],
      "metadata": {
        "id": "P-F5CGO1xCMa"
      },
      "execution_count": null,
      "outputs": []
    },
    {
      "cell_type": "code",
      "source": [
        "from sklearn.linear_model import LinearRegression\n",
        "lr=LinearRegression()\n",
        "lr.fit(x_train,y_train)"
      ],
      "metadata": {
        "colab": {
          "base_uri": "https://localhost:8080/"
        },
        "id": "AE13Fh2R21dF",
        "outputId": "72f317bc-e4f3-4b9e-b123-e1936cd9383c"
      },
      "execution_count": null,
      "outputs": [
        {
          "output_type": "execute_result",
          "data": {
            "text/plain": [
              "LinearRegression()"
            ],
            "text/html": [
              "<style>#sk-container-id-1 {color: black;}#sk-container-id-1 pre{padding: 0;}#sk-container-id-1 div.sk-toggleable {background-color: white;}#sk-container-id-1 label.sk-toggleable__label {cursor: pointer;display: block;width: 100%;margin-bottom: 0;padding: 0.3em;box-sizing: border-box;text-align: center;}#sk-container-id-1 label.sk-toggleable__label-arrow:before {content: \"▸\";float: left;margin-right: 0.25em;color: #696969;}#sk-container-id-1 label.sk-toggleable__label-arrow:hover:before {color: black;}#sk-container-id-1 div.sk-estimator:hover label.sk-toggleable__label-arrow:before {color: black;}#sk-container-id-1 div.sk-toggleable__content {max-height: 0;max-width: 0;overflow: hidden;text-align: left;background-color: #f0f8ff;}#sk-container-id-1 div.sk-toggleable__content pre {margin: 0.2em;color: black;border-radius: 0.25em;background-color: #f0f8ff;}#sk-container-id-1 input.sk-toggleable__control:checked~div.sk-toggleable__content {max-height: 200px;max-width: 100%;overflow: auto;}#sk-container-id-1 input.sk-toggleable__control:checked~label.sk-toggleable__label-arrow:before {content: \"▾\";}#sk-container-id-1 div.sk-estimator input.sk-toggleable__control:checked~label.sk-toggleable__label {background-color: #d4ebff;}#sk-container-id-1 div.sk-label input.sk-toggleable__control:checked~label.sk-toggleable__label {background-color: #d4ebff;}#sk-container-id-1 input.sk-hidden--visually {border: 0;clip: rect(1px 1px 1px 1px);clip: rect(1px, 1px, 1px, 1px);height: 1px;margin: -1px;overflow: hidden;padding: 0;position: absolute;width: 1px;}#sk-container-id-1 div.sk-estimator {font-family: monospace;background-color: #f0f8ff;border: 1px dotted black;border-radius: 0.25em;box-sizing: border-box;margin-bottom: 0.5em;}#sk-container-id-1 div.sk-estimator:hover {background-color: #d4ebff;}#sk-container-id-1 div.sk-parallel-item::after {content: \"\";width: 100%;border-bottom: 1px solid gray;flex-grow: 1;}#sk-container-id-1 div.sk-label:hover label.sk-toggleable__label {background-color: #d4ebff;}#sk-container-id-1 div.sk-serial::before {content: \"\";position: absolute;border-left: 1px solid gray;box-sizing: border-box;top: 0;bottom: 0;left: 50%;z-index: 0;}#sk-container-id-1 div.sk-serial {display: flex;flex-direction: column;align-items: center;background-color: white;padding-right: 0.2em;padding-left: 0.2em;position: relative;}#sk-container-id-1 div.sk-item {position: relative;z-index: 1;}#sk-container-id-1 div.sk-parallel {display: flex;align-items: stretch;justify-content: center;background-color: white;position: relative;}#sk-container-id-1 div.sk-item::before, #sk-container-id-1 div.sk-parallel-item::before {content: \"\";position: absolute;border-left: 1px solid gray;box-sizing: border-box;top: 0;bottom: 0;left: 50%;z-index: -1;}#sk-container-id-1 div.sk-parallel-item {display: flex;flex-direction: column;z-index: 1;position: relative;background-color: white;}#sk-container-id-1 div.sk-parallel-item:first-child::after {align-self: flex-end;width: 50%;}#sk-container-id-1 div.sk-parallel-item:last-child::after {align-self: flex-start;width: 50%;}#sk-container-id-1 div.sk-parallel-item:only-child::after {width: 0;}#sk-container-id-1 div.sk-dashed-wrapped {border: 1px dashed gray;margin: 0 0.4em 0.5em 0.4em;box-sizing: border-box;padding-bottom: 0.4em;background-color: white;}#sk-container-id-1 div.sk-label label {font-family: monospace;font-weight: bold;display: inline-block;line-height: 1.2em;}#sk-container-id-1 div.sk-label-container {text-align: center;}#sk-container-id-1 div.sk-container {/* jupyter's `normalize.less` sets `[hidden] { display: none; }` but bootstrap.min.css set `[hidden] { display: none !important; }` so we also need the `!important` here to be able to override the default hidden behavior on the sphinx rendered scikit-learn.org. See: https://github.com/scikit-learn/scikit-learn/issues/21755 */display: inline-block !important;position: relative;}#sk-container-id-1 div.sk-text-repr-fallback {display: none;}</style><div id=\"sk-container-id-1\" class=\"sk-top-container\"><div class=\"sk-text-repr-fallback\"><pre>LinearRegression()</pre><b>In a Jupyter environment, please rerun this cell to show the HTML representation or trust the notebook. <br />On GitHub, the HTML representation is unable to render, please try loading this page with nbviewer.org.</b></div><div class=\"sk-container\" hidden><div class=\"sk-item\"><div class=\"sk-estimator sk-toggleable\"><input class=\"sk-toggleable__control sk-hidden--visually\" id=\"sk-estimator-id-1\" type=\"checkbox\" checked><label for=\"sk-estimator-id-1\" class=\"sk-toggleable__label sk-toggleable__label-arrow\">LinearRegression</label><div class=\"sk-toggleable__content\"><pre>LinearRegression()</pre></div></div></div></div></div>"
            ]
          },
          "metadata": {},
          "execution_count": 13
        }
      ]
    },
    {
      "cell_type": "code",
      "source": [
        "lr.predict(x_test)"
      ],
      "metadata": {
        "colab": {
          "base_uri": "https://localhost:8080/"
        },
        "id": "Zy7zIiTh3Sqz",
        "outputId": "71f591ee-cb58-488f-ae79-114ab12bec88"
      },
      "execution_count": null,
      "outputs": [
        {
          "output_type": "execute_result",
          "data": {
            "text/plain": [
              "array([3.89111601, 3.09324469, 2.38464568, 2.57434935, 1.6537286 ,\n",
              "       1.77647803, 2.07219258, 2.93143862, 3.76278706, 2.93701814,\n",
              "       4.09197872, 3.51170867, 2.97049525, 2.40138424, 3.18809652,\n",
              "       3.46707251, 1.94386362, 3.24389172, 2.97607477, 3.41685683,\n",
              "       2.55761079, 3.16577844, 2.85890486, 3.12114229, 3.68467378,\n",
              "       2.8700639 , 3.49497011, 3.34432308, 3.91901361, 1.96060218,\n",
              "       3.65119666, 3.2104146 , 3.74046898, 2.7863711 , 2.78079158,\n",
              "       3.27178932, 3.52844723, 2.61340599, 2.65804215, 2.71383735])"
            ]
          },
          "metadata": {},
          "execution_count": 14
        }
      ]
    },
    {
      "cell_type": "code",
      "source": [
        "m=lr.coef_\n",
        "c=lr.intercept_\n",
        "m*8.94+c"
      ],
      "metadata": {
        "colab": {
          "base_uri": "https://localhost:8080/"
        },
        "id": "SaC9Dz9o371U",
        "outputId": "64e9468f-f905-4cbc-b617-2022eac0e21f"
      },
      "execution_count": null,
      "outputs": [
        {
          "output_type": "execute_result",
          "data": {
            "text/plain": [
              "array([4.09197872])"
            ]
          },
          "metadata": {},
          "execution_count": 15
        }
      ]
    },
    {
      "cell_type": "code",
      "source": [
        "def plot_and_predict(cgpa):\n",
        "  predicted=m*cgpa+c\n",
        "  plt.figure(figsize=(8,6))\n",
        "  plt.scatter(x,y,color='red')\n",
        "  plt.plot(x,lr.predict(x),color='blue')\n",
        "  plt.plot(cgpa,predicted,marker='s')\n",
        "  plt.text(cgpa+0.1,predicted-0.1,f'({cgpa},{predicted[0]:.2f})')\n",
        "  plt.xlabel('cgpa')\n",
        "  plt.ylabel('package')\n",
        "  plt.text(0.95,0.05,\"© 211P066\",ha='right', va='bottom', fontsize=10, color='black', alpha=0.6,transform=plt.gca().transAxes)\n",
        "  plt.show()\n",
        "  return predicted"
      ],
      "metadata": {
        "id": "RL7cQKHQ4lLG"
      },
      "execution_count": 4,
      "outputs": []
    },
    {
      "cell_type": "code",
      "source": [
        "import ipywidgets as widgets\n",
        "from IPython.display import display,HTML"
      ],
      "metadata": {
        "id": "1qozKkzAILhm"
      },
      "execution_count": null,
      "outputs": []
    },
    {
      "cell_type": "code",
      "source": [
        "header = widgets.HTML(value=\"<h2 style='text-align:center;border-bottom:1px solid grey;'>CGPA vs Package Prediction</h2>\")\n",
        "\n",
        "footer = widgets.HTML(value=\"<p style='text-align:center;'>© 211P011 - Data Visualization and Prediction</p>\")\n",
        "\n",
        "prediction_label = widgets.Label(value=\"Predicted Package: \")\n",
        "\n",
        "cgpa_slider = widgets.FloatSlider(\n",
        "    value=0.0,\n",
        "    min=0.0,\n",
        "    max=10.00,\n",
        "    step=0.01,\n",
        "    description='CGPA:',\n",
        "    style={'description_width': 'initial'},\n",
        "    continuous_update=False\n",
        ")\n",
        "\n",
        "def display_plot(cgpa):\n",
        "    with output:\n",
        "        output.clear_output(wait=True)\n",
        "        prediction=plot_and_predict(cgpa)\n",
        "        prediction_label.value=f\"Predicted Package: {prediction[0]:.2f}\"\n",
        "\n",
        "output = widgets.Output()\n",
        "\n",
        "cgpa_slider.observe(lambda change: display_plot(cgpa_slider.value), names='value')\n",
        "\n",
        "top_row = widgets.HBox([widgets.VBox([cgpa_slider, prediction_label]), output],\n",
        "                       layout=widgets.Layout(align_items='center', justify_content='center'))\n",
        "main_layout = widgets.VBox([header, top_row, footer],\n",
        "                            layout=widgets.Layout(align_items='center', justify_content='center'))\n",
        "\n",
        "display(main_layout)"
      ],
      "metadata": {
        "colab": {
          "base_uri": "https://localhost:8080/",
          "referenced_widgets": [
            "64e5dfbad3364e17983c4dbe821b8871",
            "a2a31f703aa649578c091710b40f8229",
            "9bda136fe8e644b0b246ee6cdb3c905f",
            "121154a3ae284ba5b4c146f7bbe7db69",
            "ccd3953b26074d11b2b10c7778f98e8e",
            "4d689e7ce7dd4e4d8b01d4f46e0a0f2b",
            "912b410a082a4d0a85937c362d29cc2f",
            "e45c5a9f9fd24b638384fcf89214f1a0",
            "6ba1c9645b84411ab656b6ac6f9d8867",
            "d74c1a035ca74aedb5613f49235de9a3",
            "e60f9a394ff94a129548da56d3398283",
            "7e8364d97e754ba18f918aa5c219f608",
            "c52ac94b5c814b59a1dc2f420b7a90e0",
            "3fae267d463141ac9569296611aff781",
            "7549b0439e57407699c542f88e04409f",
            "af9343963af3494e801556595f4083d3",
            "6c7402242f374ed6a104c6ab255c239f",
            "1077669976be490183937ccecf914f60",
            "5ba6686319064c558e79abc849cd9d45",
            "7ab9f6d8b6004cfda6f77f7cf932a182"
          ]
        },
        "id": "oWxVRGSiNb5R",
        "outputId": "be1bcf9b-8748-40b7-ab5a-dddb78a86ea6"
      },
      "execution_count": null,
      "outputs": [
        {
          "output_type": "display_data",
          "data": {
            "text/plain": [
              "VBox(children=(HTML(value=\"<h2 style='text-align:center;border-bottom:1px solid grey;'>CGPA vs Package Predict…"
            ],
            "application/vnd.jupyter.widget-view+json": {
              "version_major": 2,
              "version_minor": 0,
              "model_id": "64e5dfbad3364e17983c4dbe821b8871"
            }
          },
          "metadata": {}
        }
      ]
    },
    {
      "cell_type": "markdown",
      "source": [
        "# Build a Simple Linear model to predict a Package based on CGPA of a student,implementing your own class for fit and predict."
      ],
      "metadata": {
        "id": "VsxQNON0bdDC"
      }
    },
    {
      "cell_type": "code",
      "source": [
        "#linear regression\n",
        "class LinearRegression:\n",
        "  def __init__(self):\n",
        "    self.m=None\n",
        "    self.c=None\n",
        "  def fit(self,x_train,y_train):\n",
        "    num=0\n",
        "    den=0\n",
        "    for i in range(x_train.size - 1):\n",
        "      num+=(x_train[i]-x_train.mean())*(y_train[i]-y_train.mean())\n",
        "      den+=(x_train[i]-x_train.mean())**2\n",
        "    self.m=num/den\n",
        "    self.c=y_train.mean()-(self.m*x_train.mean())\n",
        "    return [self.m,self.c]\n",
        "  def predict(self,x_test):\n",
        "    return self.m*x_test+self.c\n"
      ],
      "metadata": {
        "id": "eaawnAB_bfxn"
      },
      "execution_count": null,
      "outputs": []
    },
    {
      "cell_type": "code",
      "source": [
        "import pandas as pd\n",
        "import numpy as np\n",
        "import matplotlib.pyplot as plt"
      ],
      "metadata": {
        "id": "TI3fUA1mbqyk"
      },
      "execution_count": null,
      "outputs": []
    },
    {
      "cell_type": "code",
      "source": [
        "df=pd.read_csv(\"placement.csv\")"
      ],
      "metadata": {
        "id": "j-EsDGvMbuWT"
      },
      "execution_count": null,
      "outputs": []
    },
    {
      "cell_type": "code",
      "source": [
        "x=df.iloc[:,0].values\n",
        "y=df.iloc[:,1].values"
      ],
      "metadata": {
        "id": "u_L3rZ2Hbyk_"
      },
      "execution_count": null,
      "outputs": []
    },
    {
      "cell_type": "code",
      "source": [
        "from sklearn.model_selection import train_test_split\n",
        "x_train,x_test,y_train,y_test=train_test_split(x,y,test_size=0.2,random_state=2)"
      ],
      "metadata": {
        "id": "933xgdfib19W"
      },
      "execution_count": null,
      "outputs": []
    },
    {
      "cell_type": "code",
      "source": [
        "lr=LinearRegression()\n",
        "m,c=lr.fit(x_train,y_train)"
      ],
      "metadata": {
        "id": "ShKqKGaVb9dw"
      },
      "execution_count": null,
      "outputs": []
    },
    {
      "cell_type": "code",
      "source": [
        "def plot_and_predict(cgpa):\n",
        "  predicted=m*cgpa+c\n",
        "  plt.figure(figsize=(8,6))\n",
        "  plt.scatter(x,y,color='red')\n",
        "  plt.plot(x,lr.predict(x),color='blue')\n",
        "  plt.plot(cgpa,predicted,marker='s')\n",
        "  plt.text(cgpa+0.1,predicted-0.1,f'({cgpa},{predicted:.2f})')\n",
        "  plt.xlabel('cgpa')\n",
        "  plt.ylabel('package')\n",
        "  plt.text(0.95,0.05,\"© 211P011\",ha='right', va='bottom', fontsize=10, color='black', alpha=0.6,transform=plt.gca().transAxes)\n",
        "  plt.show()\n",
        "  return predicted"
      ],
      "metadata": {
        "id": "vgKDfBd2cQiv"
      },
      "execution_count": null,
      "outputs": []
    },
    {
      "cell_type": "code",
      "source": [
        "import ipywidgets as widgets\n",
        "from IPython.display import display,HTML"
      ],
      "metadata": {
        "id": "6liY7Y2EcbeU"
      },
      "execution_count": null,
      "outputs": []
    },
    {
      "cell_type": "code",
      "source": [
        "header = widgets.HTML(value=\"<h2 style='text-align:center;border-bottom:1px solid grey;'>CGPA vs Package Prediction</h2>\")\n",
        "\n",
        "footer = widgets.HTML(value=\"<p style='text-align:center;'>© 211P011 - Data Visualization and Prediction</p>\")\n",
        "\n",
        "prediction_label = widgets.Label(value=\"Predicted Package: \")\n",
        "\n",
        "cgpa_slider = widgets.FloatSlider(\n",
        "    value=0.0,\n",
        "    min=0.0,\n",
        "    max=10.00,\n",
        "    step=0.01,\n",
        "    description='CGPA:',\n",
        "    style={'description_width': 'initial'},\n",
        "    continuous_update=False\n",
        ")\n",
        "\n",
        "def display_plot(cgpa):\n",
        "    with output:\n",
        "        output.clear_output(wait=True)\n",
        "        prediction=plot_and_predict(cgpa)\n",
        "        prediction_label.value=f\"Predicted Package: {prediction:.2f}\"\n",
        "`\n",
        "output = widgets.Output()\n",
        "\n",
        "cgpa_slider.observe(lambda change: display_plot(cgpa_slider.value), names='value')\n",
        "\n",
        "top_row = widgets.HBox([widgets.VBox([cgpa_slider, prediction_label]), output],\n",
        "                       layout=widgets.Layout(align_items='center', justify_content='center'))\n",
        "main_layout = widgets.VBox([header, top_row, footer],\n",
        "                            layout=widgets.Layout(align_items='center', justify_content='center'))\n",
        "\n",
        "display(main_layout)"
      ],
      "metadata": {
        "colab": {
          "base_uri": "https://localhost:8080/",
          "referenced_widgets": [
            "b3c787f015164d429bc2032260e984d6",
            "5f450d151a644183bce506391ebd8c42",
            "a4c6d0a492f34dff8a1461b5b60f16e3",
            "5ff2deb33702471e9745d1dc3764354f",
            "88798e2c764a4c33bb20a1242e1341d6",
            "b5a61ace8fd3413dae0e5296853c4038",
            "8ca3831dd05141b88939b2bb8fbefc5b",
            "85ad4d0f78524969a9527c3cff92f59b",
            "360f5abdd9b7406fb707747f90a2b650",
            "202cfd819931403882d98f45f1129941",
            "5bc26c2cce464f548327d0cbb940912a",
            "df46dd37dc3d42b2a3702530c7242202",
            "84adbd493de74ef0a602c5825c2de623",
            "2aecd6ce3ccd44b0be1dd9ae0eaf8b6e",
            "f0967c7383a841daa827124535680a86",
            "1e7ec77e8bb042a59f75ddfaa14d509b",
            "df98b1b5b09c4aa9a9ed61a7ed668208",
            "f1c451b449b0484f93392ba70322a9cf",
            "a822254cb38d4ccab4c52094091141c5",
            "a8df3499b203415885033e19204d5414"
          ],
          "height": 639
        },
        "id": "t8vsSJYccKdd",
        "outputId": "ac5ba91c-6dd5-40d0-b3a6-83eb0505b97d"
      },
      "execution_count": null,
      "outputs": [
        {
          "output_type": "display_data",
          "data": {
            "text/plain": [
              "VBox(children=(HTML(value=\"<h2 style='text-align:center;border-bottom:1px solid grey;'>CGPA vs Package Predict…"
            ],
            "application/vnd.jupyter.widget-view+json": {
              "version_major": 2,
              "version_minor": 0,
              "model_id": "b3c787f015164d429bc2032260e984d6"
            }
          },
          "metadata": {}
        }
      ]
    },
    {
      "cell_type": "markdown",
      "source": [
        "# Implement a Simple Linear model to predict a Package based on CGPA of a student and also display various regression metrics."
      ],
      "metadata": {
        "id": "B4xUhEaHe7IF"
      }
    },
    {
      "cell_type": "code",
      "source": [
        "import numpy as np\n",
        "import pandas as pd\n",
        "import matplotlib.pyplot as plt"
      ],
      "metadata": {
        "id": "jebkRDrDfR6E"
      },
      "execution_count": null,
      "outputs": []
    },
    {
      "cell_type": "code",
      "source": [
        "df=pd.read_csv(\"placement.csv\")"
      ],
      "metadata": {
        "id": "R3-rjc2ZfT5P"
      },
      "execution_count": null,
      "outputs": []
    },
    {
      "cell_type": "code",
      "source": [
        "x=df.iloc[:,0:1]\n",
        "y=df.iloc[:,1]"
      ],
      "metadata": {
        "id": "EPz008Y-fcq_"
      },
      "execution_count": null,
      "outputs": []
    },
    {
      "cell_type": "code",
      "source": [
        "from sklearn.model_selection import train_test_split\n",
        "x_train,x_test,y_train,y_test=train_test_split(x,y,test_size=0.2,random_state=2)"
      ],
      "metadata": {
        "id": "Fyw8m94gfiwo"
      },
      "execution_count": null,
      "outputs": []
    },
    {
      "cell_type": "code",
      "source": [
        "from sklearn.linear_model import LinearRegression\n",
        "lr=LinearRegression()\n",
        "lr.fit(x_train,y_train)"
      ],
      "metadata": {
        "colab": {
          "base_uri": "https://localhost:8080/",
          "height": 75
        },
        "id": "BZr5UDZkfl_f",
        "outputId": "3c47966c-f79a-400c-db74-8a1c7946bd3c"
      },
      "execution_count": null,
      "outputs": [
        {
          "output_type": "execute_result",
          "data": {
            "text/plain": [
              "LinearRegression()"
            ],
            "text/html": [
              "<style>#sk-container-id-2 {color: black;}#sk-container-id-2 pre{padding: 0;}#sk-container-id-2 div.sk-toggleable {background-color: white;}#sk-container-id-2 label.sk-toggleable__label {cursor: pointer;display: block;width: 100%;margin-bottom: 0;padding: 0.3em;box-sizing: border-box;text-align: center;}#sk-container-id-2 label.sk-toggleable__label-arrow:before {content: \"▸\";float: left;margin-right: 0.25em;color: #696969;}#sk-container-id-2 label.sk-toggleable__label-arrow:hover:before {color: black;}#sk-container-id-2 div.sk-estimator:hover label.sk-toggleable__label-arrow:before {color: black;}#sk-container-id-2 div.sk-toggleable__content {max-height: 0;max-width: 0;overflow: hidden;text-align: left;background-color: #f0f8ff;}#sk-container-id-2 div.sk-toggleable__content pre {margin: 0.2em;color: black;border-radius: 0.25em;background-color: #f0f8ff;}#sk-container-id-2 input.sk-toggleable__control:checked~div.sk-toggleable__content {max-height: 200px;max-width: 100%;overflow: auto;}#sk-container-id-2 input.sk-toggleable__control:checked~label.sk-toggleable__label-arrow:before {content: \"▾\";}#sk-container-id-2 div.sk-estimator input.sk-toggleable__control:checked~label.sk-toggleable__label {background-color: #d4ebff;}#sk-container-id-2 div.sk-label input.sk-toggleable__control:checked~label.sk-toggleable__label {background-color: #d4ebff;}#sk-container-id-2 input.sk-hidden--visually {border: 0;clip: rect(1px 1px 1px 1px);clip: rect(1px, 1px, 1px, 1px);height: 1px;margin: -1px;overflow: hidden;padding: 0;position: absolute;width: 1px;}#sk-container-id-2 div.sk-estimator {font-family: monospace;background-color: #f0f8ff;border: 1px dotted black;border-radius: 0.25em;box-sizing: border-box;margin-bottom: 0.5em;}#sk-container-id-2 div.sk-estimator:hover {background-color: #d4ebff;}#sk-container-id-2 div.sk-parallel-item::after {content: \"\";width: 100%;border-bottom: 1px solid gray;flex-grow: 1;}#sk-container-id-2 div.sk-label:hover label.sk-toggleable__label {background-color: #d4ebff;}#sk-container-id-2 div.sk-serial::before {content: \"\";position: absolute;border-left: 1px solid gray;box-sizing: border-box;top: 0;bottom: 0;left: 50%;z-index: 0;}#sk-container-id-2 div.sk-serial {display: flex;flex-direction: column;align-items: center;background-color: white;padding-right: 0.2em;padding-left: 0.2em;position: relative;}#sk-container-id-2 div.sk-item {position: relative;z-index: 1;}#sk-container-id-2 div.sk-parallel {display: flex;align-items: stretch;justify-content: center;background-color: white;position: relative;}#sk-container-id-2 div.sk-item::before, #sk-container-id-2 div.sk-parallel-item::before {content: \"\";position: absolute;border-left: 1px solid gray;box-sizing: border-box;top: 0;bottom: 0;left: 50%;z-index: -1;}#sk-container-id-2 div.sk-parallel-item {display: flex;flex-direction: column;z-index: 1;position: relative;background-color: white;}#sk-container-id-2 div.sk-parallel-item:first-child::after {align-self: flex-end;width: 50%;}#sk-container-id-2 div.sk-parallel-item:last-child::after {align-self: flex-start;width: 50%;}#sk-container-id-2 div.sk-parallel-item:only-child::after {width: 0;}#sk-container-id-2 div.sk-dashed-wrapped {border: 1px dashed gray;margin: 0 0.4em 0.5em 0.4em;box-sizing: border-box;padding-bottom: 0.4em;background-color: white;}#sk-container-id-2 div.sk-label label {font-family: monospace;font-weight: bold;display: inline-block;line-height: 1.2em;}#sk-container-id-2 div.sk-label-container {text-align: center;}#sk-container-id-2 div.sk-container {/* jupyter's `normalize.less` sets `[hidden] { display: none; }` but bootstrap.min.css set `[hidden] { display: none !important; }` so we also need the `!important` here to be able to override the default hidden behavior on the sphinx rendered scikit-learn.org. See: https://github.com/scikit-learn/scikit-learn/issues/21755 */display: inline-block !important;position: relative;}#sk-container-id-2 div.sk-text-repr-fallback {display: none;}</style><div id=\"sk-container-id-2\" class=\"sk-top-container\"><div class=\"sk-text-repr-fallback\"><pre>LinearRegression()</pre><b>In a Jupyter environment, please rerun this cell to show the HTML representation or trust the notebook. <br />On GitHub, the HTML representation is unable to render, please try loading this page with nbviewer.org.</b></div><div class=\"sk-container\" hidden><div class=\"sk-item\"><div class=\"sk-estimator sk-toggleable\"><input class=\"sk-toggleable__control sk-hidden--visually\" id=\"sk-estimator-id-2\" type=\"checkbox\" checked><label for=\"sk-estimator-id-2\" class=\"sk-toggleable__label sk-toggleable__label-arrow\">LinearRegression</label><div class=\"sk-toggleable__content\"><pre>LinearRegression()</pre></div></div></div></div></div>"
            ]
          },
          "metadata": {},
          "execution_count": 32
        }
      ]
    },
    {
      "cell_type": "code",
      "source": [
        "y_predict=lr.predict(x_test)"
      ],
      "metadata": {
        "id": "KKYpwYDafpxn"
      },
      "execution_count": null,
      "outputs": []
    },
    {
      "cell_type": "code",
      "source": [
        "from sklearn.metrics import mean_absolute_error,mean_squared_error,r2_score"
      ],
      "metadata": {
        "id": "Jfi5sMqHfv3A"
      },
      "execution_count": 2,
      "outputs": []
    },
    {
      "cell_type": "code",
      "source": [
        "print(\"mean absolute error: \",mean_absolute_error(y_test,y_predict))\n",
        "print(\"mean squared error: \",mean_squared_error(y_test,y_predict))\n",
        "print(\"root mean squared error: \",np.sqrt(mean_squared_error(y_test,y_predict)))\n",
        "print(\"r2 score: \",r2_score(y_test,y_predict))\n",
        "print(f\"-211P011\".center(75))"
      ],
      "metadata": {
        "colab": {
          "base_uri": "https://localhost:8080/",
          "height": 211
        },
        "id": "02B6E22AfyiY",
        "outputId": "e471ba7a-6c38-4e21-9b1c-8ee9cbf603f8"
      },
      "execution_count": 3,
      "outputs": [
        {
          "output_type": "error",
          "ename": "NameError",
          "evalue": "name 'y_test' is not defined",
          "traceback": [
            "\u001b[0;31m---------------------------------------------------------------------------\u001b[0m",
            "\u001b[0;31mNameError\u001b[0m                                 Traceback (most recent call last)",
            "\u001b[0;32m<ipython-input-3-1b3f70b953a4>\u001b[0m in \u001b[0;36m<cell line: 1>\u001b[0;34m()\u001b[0m\n\u001b[0;32m----> 1\u001b[0;31m \u001b[0mprint\u001b[0m\u001b[0;34m(\u001b[0m\u001b[0;34m\"mean absolute error: \"\u001b[0m\u001b[0;34m,\u001b[0m\u001b[0mmean_absolute_error\u001b[0m\u001b[0;34m(\u001b[0m\u001b[0my_test\u001b[0m\u001b[0;34m,\u001b[0m\u001b[0my_predict\u001b[0m\u001b[0;34m)\u001b[0m\u001b[0;34m)\u001b[0m\u001b[0;34m\u001b[0m\u001b[0;34m\u001b[0m\u001b[0m\n\u001b[0m\u001b[1;32m      2\u001b[0m \u001b[0mprint\u001b[0m\u001b[0;34m(\u001b[0m\u001b[0;34m\"mean squared error: \"\u001b[0m\u001b[0;34m,\u001b[0m\u001b[0mmean_squared_error\u001b[0m\u001b[0;34m(\u001b[0m\u001b[0my_test\u001b[0m\u001b[0;34m,\u001b[0m\u001b[0my_predict\u001b[0m\u001b[0;34m)\u001b[0m\u001b[0;34m)\u001b[0m\u001b[0;34m\u001b[0m\u001b[0;34m\u001b[0m\u001b[0m\n\u001b[1;32m      3\u001b[0m \u001b[0mprint\u001b[0m\u001b[0;34m(\u001b[0m\u001b[0;34m\"root mean squared error: \"\u001b[0m\u001b[0;34m,\u001b[0m\u001b[0mnp\u001b[0m\u001b[0;34m.\u001b[0m\u001b[0msqrt\u001b[0m\u001b[0;34m(\u001b[0m\u001b[0mmean_squared_error\u001b[0m\u001b[0;34m(\u001b[0m\u001b[0my_test\u001b[0m\u001b[0;34m,\u001b[0m\u001b[0my_predict\u001b[0m\u001b[0;34m)\u001b[0m\u001b[0;34m)\u001b[0m\u001b[0;34m)\u001b[0m\u001b[0;34m\u001b[0m\u001b[0;34m\u001b[0m\u001b[0m\n\u001b[1;32m      4\u001b[0m \u001b[0mprint\u001b[0m\u001b[0;34m(\u001b[0m\u001b[0;34m\"r2 score: \"\u001b[0m\u001b[0;34m,\u001b[0m\u001b[0mr2_score\u001b[0m\u001b[0;34m(\u001b[0m\u001b[0my_test\u001b[0m\u001b[0;34m,\u001b[0m\u001b[0my_predict\u001b[0m\u001b[0;34m)\u001b[0m\u001b[0;34m)\u001b[0m\u001b[0;34m\u001b[0m\u001b[0;34m\u001b[0m\u001b[0m\n\u001b[1;32m      5\u001b[0m \u001b[0mprint\u001b[0m\u001b[0;34m(\u001b[0m\u001b[0;34mf\"-211P011\"\u001b[0m\u001b[0;34m.\u001b[0m\u001b[0mcenter\u001b[0m\u001b[0;34m(\u001b[0m\u001b[0;36m75\u001b[0m\u001b[0;34m)\u001b[0m\u001b[0;34m)\u001b[0m\u001b[0;34m\u001b[0m\u001b[0;34m\u001b[0m\u001b[0m\n",
            "\u001b[0;31mNameError\u001b[0m: name 'y_test' is not defined"
          ]
        }
      ]
    }
  ]
}